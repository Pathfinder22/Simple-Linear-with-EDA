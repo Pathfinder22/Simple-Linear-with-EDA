{
 "cells": [
  {
   "cell_type": "markdown",
   "metadata": {},
   "source": [
    "## Prep"
   ]
  },
  {
   "cell_type": "code",
   "execution_count": 2,
   "metadata": {},
   "outputs": [],
   "source": [
    "import numpy as np\n",
    "import chardet as cd\n",
    "import pandas as pd\n",
    "import matplotlib.pyplot as plt\n",
    "import seaborn as sns\n",
    "pd.set_option('display.max_columns',40)"
   ]
  },
  {
   "cell_type": "markdown",
   "metadata": {},
   "source": [
    "### Create Companies DF"
   ]
  },
  {
   "cell_type": "code",
   "execution_count": 3,
   "metadata": {},
   "outputs": [
    {
     "name": "stdout",
     "output_type": "stream",
     "text": [
      "<class 'pandas.core.frame.DataFrame'>\n",
      "RangeIndex: 66368 entries, 0 to 66367\n",
      "Data columns (total 10 columns):\n",
      " #   Column         Non-Null Count  Dtype \n",
      "---  ------         --------------  ----- \n",
      " 0   permalink      66368 non-null  object\n",
      " 1   name           66367 non-null  object\n",
      " 2   homepage_url   61310 non-null  object\n",
      " 3   category_list  63220 non-null  object\n",
      " 4   status         66368 non-null  object\n",
      " 5   country_code   59410 non-null  object\n",
      " 6   state_code     57821 non-null  object\n",
      " 7   region         58338 non-null  object\n",
      " 8   city           58340 non-null  object\n",
      " 9   founded_at     51147 non-null  object\n",
      "dtypes: object(10)\n",
      "memory usage: 5.1+ MB\n"
     ]
    }
   ],
   "source": [
    "companies=pd.read_csv(\"D:\\MS AI ML\\Inv Anal 2\\\\companies.csv\", encoding = 'Unicode_escape')\n",
    "companies['permalink']=companies['permalink'].str.lower() \n",
    "companies.info()"
   ]
  },
  {
   "cell_type": "markdown",
   "metadata": {},
   "source": [
    "### Create Rounds2 DF"
   ]
  },
  {
   "cell_type": "code",
   "execution_count": 4,
   "metadata": {},
   "outputs": [
    {
     "name": "stdout",
     "output_type": "stream",
     "text": [
      "<class 'pandas.core.frame.DataFrame'>\n",
      "RangeIndex: 114949 entries, 0 to 114948\n",
      "Data columns (total 6 columns):\n",
      " #   Column                   Non-Null Count   Dtype  \n",
      "---  ------                   --------------   -----  \n",
      " 0   company_permalink        114949 non-null  object \n",
      " 1   funding_round_permalink  114949 non-null  object \n",
      " 2   funding_round_type       114949 non-null  object \n",
      " 3   funding_round_code       31140 non-null   object \n",
      " 4   funded_at                114949 non-null  object \n",
      " 5   raised_amount_usd        94959 non-null   float64\n",
      "dtypes: float64(1), object(5)\n",
      "memory usage: 5.3+ MB\n"
     ]
    }
   ],
   "source": [
    "rounds2=pd.read_csv(\"D:\\MS AI ML\\Inv Anal 2\\\\rounds2.csv\", encoding = 'unicode_escape')\n",
    "rounds2['company_permalink']=rounds2['company_permalink'].str.lower()\n",
    "rounds2.info()"
   ]
  },
  {
   "cell_type": "markdown",
   "metadata": {},
   "source": [
    "### Find Unique Values for both DFs"
   ]
  },
  {
   "cell_type": "code",
   "execution_count": 5,
   "metadata": {},
   "outputs": [
    {
     "data": {
      "text/html": [
       "<div>\n",
       "<style scoped>\n",
       "    .dataframe tbody tr th:only-of-type {\n",
       "        vertical-align: middle;\n",
       "    }\n",
       "\n",
       "    .dataframe tbody tr th {\n",
       "        vertical-align: top;\n",
       "    }\n",
       "\n",
       "    .dataframe thead th {\n",
       "        text-align: right;\n",
       "    }\n",
       "</style>\n",
       "<table border=\"1\" class=\"dataframe\">\n",
       "  <thead>\n",
       "    <tr style=\"text-align: right;\">\n",
       "      <th></th>\n",
       "      <th>Company_permalink_2</th>\n",
       "    </tr>\n",
       "  </thead>\n",
       "  <tbody>\n",
       "    <tr>\n",
       "      <th>0</th>\n",
       "      <td>/organization/-fame</td>\n",
       "    </tr>\n",
       "    <tr>\n",
       "      <th>1</th>\n",
       "      <td>/organization/-qounter</td>\n",
       "    </tr>\n",
       "    <tr>\n",
       "      <th>2</th>\n",
       "      <td>/organization/-the-one-of-them-inc-</td>\n",
       "    </tr>\n",
       "    <tr>\n",
       "      <th>3</th>\n",
       "      <td>/organization/0-6-com</td>\n",
       "    </tr>\n",
       "    <tr>\n",
       "      <th>4</th>\n",
       "      <td>/organization/004-technologies</td>\n",
       "    </tr>\n",
       "    <tr>\n",
       "      <th>...</th>\n",
       "      <td>...</td>\n",
       "    </tr>\n",
       "    <tr>\n",
       "      <th>66363</th>\n",
       "      <td>/organization/zznode-science-and-technology-co...</td>\n",
       "    </tr>\n",
       "    <tr>\n",
       "      <th>66364</th>\n",
       "      <td>/organization/zzzzapp-com</td>\n",
       "    </tr>\n",
       "    <tr>\n",
       "      <th>66365</th>\n",
       "      <td>/organization/ãeron</td>\n",
       "    </tr>\n",
       "    <tr>\n",
       "      <th>66366</th>\n",
       "      <td>/organization/ãasys-2</td>\n",
       "    </tr>\n",
       "    <tr>\n",
       "      <th>66367</th>\n",
       "      <td>/organization/ä°novatiff-reklam-ve-tanä±tä±m-h...</td>\n",
       "    </tr>\n",
       "  </tbody>\n",
       "</table>\n",
       "<p>66368 rows × 1 columns</p>\n",
       "</div>"
      ],
      "text/plain": [
       "                                     Company_permalink_2\n",
       "0                                    /organization/-fame\n",
       "1                                 /organization/-qounter\n",
       "2                    /organization/-the-one-of-them-inc-\n",
       "3                                  /organization/0-6-com\n",
       "4                         /organization/004-technologies\n",
       "...                                                  ...\n",
       "66363  /organization/zznode-science-and-technology-co...\n",
       "66364                          /organization/zzzzapp-com\n",
       "66365                               /organization/ãeron\n",
       "66366                             /organization/ãasys-2\n",
       "66367  /organization/ä°novatiff-reklam-ve-tanä±tä±m-h...\n",
       "\n",
       "[66368 rows x 1 columns]"
      ]
     },
     "execution_count": 5,
     "metadata": {},
     "output_type": "execute_result"
    }
   ],
   "source": [
    "#Unique Values Rounds\n",
    "unqrounds2=rounds2['company_permalink'].unique()\n",
    "unqround2perm=pd.DataFrame(unqrounds2,columns=['Company_permalink_1'])\n",
    "\n",
    "#Unique Values Companies\n",
    "unqcompanies=companies['permalink'].unique()\n",
    "unqcompaniesperm=pd.DataFrame(unqcompanies,columns=['Company_permalink_2'])\n",
    "\n",
    "unqround2perm\n",
    "unqcompaniesperm"
   ]
  },
  {
   "cell_type": "markdown",
   "metadata": {},
   "source": [
    "### Create Master DF (Merge Companies & Rounds 2)"
   ]
  },
  {
   "cell_type": "code",
   "execution_count": 6,
   "metadata": {
    "scrolled": true
   },
   "outputs": [
    {
     "name": "stdout",
     "output_type": "stream",
     "text": [
      "<class 'pandas.core.frame.DataFrame'>\n",
      "Int64Index: 114942 entries, 0 to 114941\n",
      "Data columns (total 17 columns):\n",
      " #   Column                   Non-Null Count   Dtype   \n",
      "---  ------                   --------------   -----   \n",
      " 0   company_permalink        114942 non-null  object  \n",
      " 1   funding_round_permalink  114942 non-null  object  \n",
      " 2   funding_round_type       114942 non-null  object  \n",
      " 3   funding_round_code       31139 non-null   object  \n",
      " 4   funded_at                114942 non-null  object  \n",
      " 5   raised_amount_usd        94958 non-null   float64 \n",
      " 6   permalink                114942 non-null  object  \n",
      " 7   name                     114941 non-null  object  \n",
      " 8   homepage_url             108810 non-null  object  \n",
      " 9   category_list            111535 non-null  object  \n",
      " 10  status                   114942 non-null  object  \n",
      " 11  country_code             106271 non-null  object  \n",
      " 12  state_code               104003 non-null  object  \n",
      " 13  region                   104782 non-null  object  \n",
      " 14  city                     104785 non-null  object  \n",
      " 15  founded_at               94422 non-null   object  \n",
      " 16  _merge                   114942 non-null  category\n",
      "dtypes: category(1), float64(1), object(15)\n",
      "memory usage: 15.0+ MB\n"
     ]
    }
   ],
   "source": [
    "master_frame = pd.merge(left=rounds2, right=companies, how = 'inner', left_on='company_permalink', right_on='permalink',indicator=True)\n",
    "master_frame.info()"
   ]
  },
  {
   "cell_type": "markdown",
   "metadata": {},
   "source": [
    "## Explore and Clean Data -  Check for duplicates, isnulls etc. "
   ]
  },
  {
   "cell_type": "code",
   "execution_count": 7,
   "metadata": {},
   "outputs": [
    {
     "data": {
      "text/plain": [
       "count                        94958\n",
       "unique                       53914\n",
       "top       /organization/solarflare\n",
       "freq                            19\n",
       "Name: company_permalink, dtype: object"
      ]
     },
     "execution_count": 7,
     "metadata": {},
     "output_type": "execute_result"
    }
   ],
   "source": [
    "#Remove leading and trailing characters\n",
    "import re \n",
    "\n",
    "b=re.search('[\\d\\w\\s]',' Company_permalink' )\n",
    "\n",
    "cols = rounds2.select_dtypes(['object']).columns\n",
    "rounds2[cols] = rounds2[cols].apply(lambda x: x.str.lstrip())\n",
    "rounds2[cols] = rounds2[cols].apply(lambda x: x.str.rstrip())\n",
    "rounds2[cols] = rounds2[cols].apply(lambda x: x.str.rstrip('\\n'))\n",
    "\n",
    "cols1 = companies.select_dtypes(['object']).columns\n",
    "companies[cols1] = companies[cols1].apply(lambda x: x.str.lstrip())\n",
    "companies[cols1] = companies[cols1].apply(lambda x: x.str.rstrip())\n",
    "companies[cols1] = companies[cols1].apply(lambda x: x.str.rstrip('\\n'))\n",
    "\n",
    "#Check merge inner / Check and drop null values                     \n",
    "\n",
    "master_frame['_merge'].value_counts()\n",
    "master_frame= master_frame[~master_frame['raised_amount_usd'].isnull()]\n",
    "master_frame['raised_amount_usd'].isnull().sum()\n",
    "#master_frame.head()\n",
    "master_frame['company_permalink'].describe()"
   ]
  },
  {
   "cell_type": "code",
   "execution_count": 8,
   "metadata": {},
   "outputs": [],
   "source": [
    "# Dropping Duplicates, permalink and indicator\n",
    "master_frame.drop_duplicates()\n",
    "master_frame=master_frame.drop(['permalink'],axis=1)\n",
    "master_frame=master_frame.drop(['_merge'],axis=1)\n",
    "#master_frame.info() #check df info"
   ]
  },
  {
   "cell_type": "code",
   "execution_count": 9,
   "metadata": {},
   "outputs": [],
   "source": [
    "### Reorder Columns & drop duplicates\n",
    "master_frame = master_frame[[\"company_permalink\",\"name\",\"funding_round_type\",\"raised_amount_usd\",\"funding_round_permalink\",\"homepage_url\",\"country_code\",\"category_list\",\"state_code\",\"region\",\"city\",\"founded_at\",\"funded_at\",\"funding_round_code\",\"status\"]]\n",
    "master_frame=master_frame.drop_duplicates()\n",
    "#master_frame.info() #check df info"
   ]
  },
  {
   "cell_type": "markdown",
   "metadata": {},
   "source": [
    "### Funding Type Analysis"
   ]
  },
  {
   "cell_type": "code",
   "execution_count": 10,
   "metadata": {},
   "outputs": [
    {
     "data": {
      "text/plain": [
       "count       94958\n",
       "unique         14\n",
       "top       venture\n",
       "freq        50228\n",
       "Name: funding_round_type, dtype: object"
      ]
     },
     "execution_count": 10,
     "metadata": {},
     "output_type": "execute_result"
    }
   ],
   "source": [
    "#check to understand the df for firther analysis on fund types\n",
    "master_frame['funding_round_type'].value_counts()\n",
    "master_frame['funding_round_type'].describe()\n"
   ]
  },
  {
   "cell_type": "code",
   "execution_count": 11,
   "metadata": {},
   "outputs": [
    {
     "name": "stdout",
     "output_type": "stream",
     "text": [
      "<class 'pandas.core.frame.DataFrame'>\n",
      "Int64Index: 80626 entries, 0 to 114940\n",
      "Data columns (total 15 columns):\n",
      " #   Column                   Non-Null Count  Dtype  \n",
      "---  ------                   --------------  -----  \n",
      " 0   company_permalink        80626 non-null  object \n",
      " 1   name                     80625 non-null  object \n",
      " 2   funding_round_type       80626 non-null  object \n",
      " 3   raised_amount_usd        80626 non-null  float64\n",
      " 4   funding_round_permalink  80626 non-null  object \n",
      " 5   homepage_url             77181 non-null  object \n",
      " 6   country_code             75606 non-null  object \n",
      " 7   category_list            79771 non-null  object \n",
      " 8   state_code               74055 non-null  object \n",
      " 9   region                   74564 non-null  object \n",
      " 10  city                     74567 non-null  object \n",
      " 11  founded_at               67180 non-null  object \n",
      " 12  funded_at                80626 non-null  object \n",
      " 13  funding_round_code       28153 non-null  object \n",
      " 14  status                   80626 non-null  object \n",
      "dtypes: float64(1), object(14)\n",
      "memory usage: 9.8+ MB\n"
     ]
    }
   ],
   "source": [
    "#Take only the 4 fundtypes needed for analysis\n",
    "category= ['venture','angel','seed','private_equity']\n",
    "submaster_fund_type=master_frame[master_frame['funding_round_type'].isin(category)]\n",
    "submaster_fund_type['raised_amount_usd'].isnull().sum()\n",
    "submaster_fund_type.info()# Check"
   ]
  },
  {
   "cell_type": "markdown",
   "metadata": {},
   "source": [
    "### New data frame only for analysis of fund_types (5 relvant fields from 15), drop amt=0"
   ]
  },
  {
   "cell_type": "code",
   "execution_count": 12,
   "metadata": {},
   "outputs": [
    {
     "name": "stdout",
     "output_type": "stream",
     "text": [
      "<class 'pandas.core.frame.DataFrame'>\n",
      "Int64Index: 80468 entries, 0 to 114940\n",
      "Data columns (total 6 columns):\n",
      " #   Column              Non-Null Count  Dtype  \n",
      "---  ------              --------------  -----  \n",
      " 0   company_permalink   80468 non-null  object \n",
      " 1   name                80467 non-null  object \n",
      " 2   funding_round_type  80468 non-null  object \n",
      " 3   raised_amount_usd   80468 non-null  float64\n",
      " 4   country_code        75476 non-null  object \n",
      " 5   category_list       79628 non-null  object \n",
      "dtypes: float64(1), object(5)\n",
      "memory usage: 4.3+ MB\n"
     ]
    }
   ],
   "source": [
    "ftype_df=submaster_fund_type[[\"company_permalink\",\"name\",\"funding_round_type\",\"raised_amount_usd\",\"country_code\",\"category_list\"]]\n",
    "ftype_df=ftype_df[~(ftype_df['raised_amount_usd']==0)]\n",
    "ftype_df.info() # check"
   ]
  },
  {
   "cell_type": "markdown",
   "metadata": {},
   "source": [
    "#### Identifying outliers & Removing Outliers"
   ]
  },
  {
   "cell_type": "code",
   "execution_count": 38,
   "metadata": {},
   "outputs": [
    {
     "name": "stdout",
     "output_type": "stream",
     "text": [
      "<class 'pandas.core.frame.DataFrame'>\n",
      "Int64Index: 71911 entries, 0 to 114940\n",
      "Data columns (total 6 columns):\n",
      " #   Column              Non-Null Count  Dtype  \n",
      "---  ------              --------------  -----  \n",
      " 0   company_permalink   71911 non-null  object \n",
      " 1   name                71910 non-null  object \n",
      " 2   funding_round_type  71911 non-null  object \n",
      " 3   raised_amount_usd   71911 non-null  float64\n",
      " 4   country_code        67291 non-null  object \n",
      " 5   category_list       71200 non-null  object \n",
      "dtypes: float64(1), object(5)\n",
      "memory usage: 3.8+ MB\n"
     ]
    }
   ],
   "source": [
    "#Identify quartiles\n",
    "Q1 = ftype_df['raised_amount_usd'].quantile(0.25)\n",
    "Q3 = ftype_df['raised_amount_usd'].quantile(0.75)\n",
    "IQR = Q3 - Q1     \n",
    "#Filter outliers\n",
    "filter=(ftype_df['raised_amount_usd'] >= Q1 - 1.5 * IQR) & (ftype_df['raised_amount_usd'] <= Q3 + 1.5 *IQR)\n",
    "ftype_df=ftype_df.loc[filter]\n",
    "ftype_df.info()\n",
    "#filter"
   ]
  },
  {
   "cell_type": "markdown",
   "metadata": {},
   "source": [
    "#### Boxplots of fund_types"
   ]
  },
  {
   "cell_type": "code",
   "execution_count": 14,
   "metadata": {},
   "outputs": [
    {
     "data": {
      "image/png": "[encoded data removed]",
      "text/plain": [
       "<Figure size 720x504 with 1 Axes>"
      ]
     },
     "metadata": {
      "needs_background": "light"
     },
     "output_type": "display_data"
    }
   ],
   "source": [
    "#Plotting a box_plot of all 4 categories\n",
    "plt.figure(figsize=(10,7))\n",
    "chart=sns.boxplot(x=\"funding_round_type\",y=\"raised_amount_usd\",data=ftype_df,palette='Set2')\n",
    "chart.set_xticklabels(chart.get_xticklabels(),rotation=45)\n",
    "plt.show()\n",
    "#outliers for Seed very high even after cleaning data\n",
    "#outliers for angel very high even after cleaning data"
   ]
  },
  {
   "cell_type": "code",
   "execution_count": 15,
   "metadata": {},
   "outputs": [
    {
     "name": "stderr",
     "output_type": "stream",
     "text": [
      "<ipython-input-15-5e2e7d5d5d34>:7: UserWarning: Matplotlib is currently using module://ipykernel.pylab.backend_inline, which is a non-GUI backend, so cannot show the figure.\n",
      "  fig.show()\n"
     ]
    },
    {
     "data": {
      "image/png": "[encoded data removed]",
      "text/plain": [
       "<Figure size 432x288 with 2 Axes>"
      ]
     },
     "metadata": {
      "needs_background": "light"
     },
     "output_type": "display_data"
    }
   ],
   "source": [
    "#Checking with Histogram for both Seed and Angel\n",
    "ftype_df_seed = ftype_df[(ftype_df['funding_round_type']=='seed')]\n",
    "fig, ax =plt.subplots(1,2)\n",
    "g1=sns.distplot(ftype_df_seed.raised_amount_usd,bins=30,ax=ax[0]).set_title(\"Seed\")\n",
    "ftype_df_angel = ftype_df[(ftype_df['funding_round_type']=='angel')]\n",
    "g2=sns.distplot(ftype_df_angel.raised_amount_usd,bins=30,ax=ax[1]).set_title(\"Angel\")\n",
    "fig.show()\n",
    "fig.tight_layout()\n",
    "#Both are positively skewed distribution with a long right tail, \n",
    "#for the purposes of this assignment as instructed, keeping the analysis simple and not taking into account Mean > Median > Mode"
   ]
  },
  {
   "cell_type": "code",
   "execution_count": 16,
   "metadata": {},
   "outputs": [
    {
     "data": {
      "text/html": [
       "<div>\n",
       "<style scoped>\n",
       "    .dataframe tbody tr th:only-of-type {\n",
       "        vertical-align: middle;\n",
       "    }\n",
       "\n",
       "    .dataframe tbody tr th {\n",
       "        vertical-align: top;\n",
       "    }\n",
       "\n",
       "    .dataframe thead th {\n",
       "        text-align: right;\n",
       "    }\n",
       "</style>\n",
       "<table border=\"1\" class=\"dataframe\">\n",
       "  <thead>\n",
       "    <tr style=\"text-align: right;\">\n",
       "      <th></th>\n",
       "      <th>raised_amount_usd</th>\n",
       "    </tr>\n",
       "  </thead>\n",
       "  <tbody>\n",
       "    <tr>\n",
       "      <th>count</th>\n",
       "      <td>2.045400e+04</td>\n",
       "    </tr>\n",
       "    <tr>\n",
       "      <th>mean</th>\n",
       "      <td>3.817162e+05</td>\n",
       "    </tr>\n",
       "    <tr>\n",
       "      <th>std</th>\n",
       "      <td>4.159083e+05</td>\n",
       "    </tr>\n",
       "    <tr>\n",
       "      <th>min</th>\n",
       "      <td>1.000000e+00</td>\n",
       "    </tr>\n",
       "    <tr>\n",
       "      <th>25%</th>\n",
       "      <td>5.000000e+04</td>\n",
       "    </tr>\n",
       "    <tr>\n",
       "      <th>50%</th>\n",
       "      <td>2.000000e+05</td>\n",
       "    </tr>\n",
       "    <tr>\n",
       "      <th>75%</th>\n",
       "      <td>6.000000e+05</td>\n",
       "    </tr>\n",
       "    <tr>\n",
       "      <th>max</th>\n",
       "      <td>1.500000e+06</td>\n",
       "    </tr>\n",
       "  </tbody>\n",
       "</table>\n",
       "</div>"
      ],
      "text/plain": [
       "       raised_amount_usd\n",
       "count       2.045400e+04\n",
       "mean        3.817162e+05\n",
       "std         4.159083e+05\n",
       "min         1.000000e+00\n",
       "25%         5.000000e+04\n",
       "50%         2.000000e+05\n",
       "75%         6.000000e+05\n",
       "max         1.500000e+06"
      ]
     },
     "execution_count": 16,
     "metadata": {},
     "output_type": "execute_result"
    }
   ],
   "source": [
    "seed = ftype_df[ftype_df['funding_round_type']=='seed']\n",
    "Q1 = seed['raised_amount_usd'].quantile(0.25)\n",
    "Q3 = seed['raised_amount_usd'].quantile(0.75)\n",
    "Q85= seed['raised_amount_usd'].quantile(0.85)\n",
    "IQR = Q3 - Q1     \n",
    "filter = (seed['raised_amount_usd'] <= Q85)\n",
    "seed=seed.loc[filter]        \n",
    "seed.describe()"
   ]
  },
  {
   "cell_type": "code",
   "execution_count": 17,
   "metadata": {},
   "outputs": [
    {
     "name": "stderr",
     "output_type": "stream",
     "text": [
      "<ipython-input-17-69477689b6a7>:6: UserWarning: Matplotlib is currently using module://ipykernel.pylab.backend_inline, which is a non-GUI backend, so cannot show the figure.\n",
      "  fig.show()\n"
     ]
    },
    {
     "data": {
      "image/png": "[encoded data removed]",
      "text/plain": [
       "<Figure size 432x288 with 3 Axes>"
      ]
     },
     "metadata": {
      "needs_background": "light"
     },
     "output_type": "display_data"
    }
   ],
   "source": [
    "fig, ax =plt.subplots(1,3)\n",
    "sns.distplot(seed.raised_amount_usd,bins=30,ax=ax[0]).set_title(\"Seed\")\n",
    "chart2=sns.boxplot(x=\"funding_round_type\",y=\"raised_amount_usd\",data=seed,palette='Set2',ax=ax[1])\n",
    "plt.hist(seed.raised_amount_usd)\n",
    "chart2.set_xticklabels(chart2.get_xticklabels(),rotation=45)\n",
    "fig.show()"
   ]
  },
  {
   "cell_type": "code",
   "execution_count": 18,
   "metadata": {},
   "outputs": [
    {
     "data": {
      "text/html": [
       "<div>\n",
       "<style scoped>\n",
       "    .dataframe tbody tr th:only-of-type {\n",
       "        vertical-align: middle;\n",
       "    }\n",
       "\n",
       "    .dataframe tbody tr th {\n",
       "        vertical-align: top;\n",
       "    }\n",
       "\n",
       "    .dataframe thead th {\n",
       "        text-align: right;\n",
       "    }\n",
       "</style>\n",
       "<table border=\"1\" class=\"dataframe\">\n",
       "  <thead>\n",
       "    <tr style=\"text-align: right;\">\n",
       "      <th></th>\n",
       "      <th>raised_amount_usd</th>\n",
       "    </tr>\n",
       "  </thead>\n",
       "  <tbody>\n",
       "    <tr>\n",
       "      <th>count</th>\n",
       "      <td>4.109000e+03</td>\n",
       "    </tr>\n",
       "    <tr>\n",
       "      <th>mean</th>\n",
       "      <td>4.163525e+05</td>\n",
       "    </tr>\n",
       "    <tr>\n",
       "      <th>std</th>\n",
       "      <td>3.499412e+05</td>\n",
       "    </tr>\n",
       "    <tr>\n",
       "      <th>min</th>\n",
       "      <td>1.200000e+01</td>\n",
       "    </tr>\n",
       "    <tr>\n",
       "      <th>25%</th>\n",
       "      <td>1.250000e+05</td>\n",
       "    </tr>\n",
       "    <tr>\n",
       "      <th>50%</th>\n",
       "      <td>3.000000e+05</td>\n",
       "    </tr>\n",
       "    <tr>\n",
       "      <th>75%</th>\n",
       "      <td>6.125330e+05</td>\n",
       "    </tr>\n",
       "    <tr>\n",
       "      <th>max</th>\n",
       "      <td>1.400000e+06</td>\n",
       "    </tr>\n",
       "  </tbody>\n",
       "</table>\n",
       "</div>"
      ],
      "text/plain": [
       "       raised_amount_usd\n",
       "count       4.109000e+03\n",
       "mean        4.163525e+05\n",
       "std         3.499412e+05\n",
       "min         1.200000e+01\n",
       "25%         1.250000e+05\n",
       "50%         3.000000e+05\n",
       "75%         6.125330e+05\n",
       "max         1.400000e+06"
      ]
     },
     "execution_count": 18,
     "metadata": {},
     "output_type": "execute_result"
    }
   ],
   "source": [
    "angel = ftype_df[ftype_df['funding_round_type']=='angel']\n",
    "Q1 = angel['raised_amount_usd'].quantile(0.25)\n",
    "Q3 = angel['raised_amount_usd'].quantile(0.75)\n",
    "Q85= angel['raised_amount_usd'].quantile(0.85)\n",
    "IQR = Q3 - Q1     \n",
    "filter = (angel['raised_amount_usd'] <= Q85)\n",
    "angel=angel.loc[filter]        \n",
    "angel.describe()"
   ]
  },
  {
   "cell_type": "code",
   "execution_count": 19,
   "metadata": {},
   "outputs": [
    {
     "name": "stderr",
     "output_type": "stream",
     "text": [
      "<ipython-input-19-bf8ca1902bc0>:7: UserWarning: Matplotlib is currently using module://ipykernel.pylab.backend_inline, which is a non-GUI backend, so cannot show the figure.\n",
      "  fig.show()\n"
     ]
    },
    {
     "data": {
      "image/png": "[encoded data removed]",
      "text/plain": [
       "<Figure size 432x288 with 3 Axes>"
      ]
     },
     "metadata": {
      "needs_background": "light"
     },
     "output_type": "display_data"
    }
   ],
   "source": [
    "fig=figsize=[30,30]\n",
    "fig, ax =plt.subplots(1,3)\n",
    "sns.distplot(angel.raised_amount_usd,bins=30,ax=ax[0]).set_title(\"Angel\")\n",
    "chart3=sns.boxplot(x=\"funding_round_type\",y=\"raised_amount_usd\",data=angel,palette='Set1',ax=ax[1])\n",
    "plt.hist(angel.raised_amount_usd)\n",
    "chart3.set_xticklabels(chart3.get_xticklabels(),rotation=45)\n",
    "fig.show()"
   ]
  },
  {
   "cell_type": "code",
   "execution_count": 20,
   "metadata": {},
   "outputs": [
    {
     "data": {
      "text/html": [
       "<div>\n",
       "<style scoped>\n",
       "    .dataframe tbody tr th:only-of-type {\n",
       "        vertical-align: middle;\n",
       "    }\n",
       "\n",
       "    .dataframe tbody tr th {\n",
       "        vertical-align: top;\n",
       "    }\n",
       "\n",
       "    .dataframe thead th {\n",
       "        text-align: right;\n",
       "    }\n",
       "</style>\n",
       "<table border=\"1\" class=\"dataframe\">\n",
       "  <thead>\n",
       "    <tr style=\"text-align: right;\">\n",
       "      <th></th>\n",
       "      <th>raised_amount_usd</th>\n",
       "    </tr>\n",
       "  </thead>\n",
       "  <tbody>\n",
       "    <tr>\n",
       "      <th>count</th>\n",
       "      <td>5.019900e+04</td>\n",
       "    </tr>\n",
       "    <tr>\n",
       "      <th>mean</th>\n",
       "      <td>1.175574e+07</td>\n",
       "    </tr>\n",
       "    <tr>\n",
       "      <th>std</th>\n",
       "      <td>8.637654e+07</td>\n",
       "    </tr>\n",
       "    <tr>\n",
       "      <th>min</th>\n",
       "      <td>1.000000e+00</td>\n",
       "    </tr>\n",
       "    <tr>\n",
       "      <th>25%</th>\n",
       "      <td>1.610000e+06</td>\n",
       "    </tr>\n",
       "    <tr>\n",
       "      <th>50%</th>\n",
       "      <td>5.000000e+06</td>\n",
       "    </tr>\n",
       "    <tr>\n",
       "      <th>75%</th>\n",
       "      <td>1.200000e+07</td>\n",
       "    </tr>\n",
       "    <tr>\n",
       "      <th>max</th>\n",
       "      <td>1.760000e+10</td>\n",
       "    </tr>\n",
       "  </tbody>\n",
       "</table>\n",
       "</div>"
      ],
      "text/plain": [
       "       raised_amount_usd\n",
       "count       5.019900e+04\n",
       "mean        1.175574e+07\n",
       "std         8.637654e+07\n",
       "min         1.000000e+00\n",
       "25%         1.610000e+06\n",
       "50%         5.000000e+06\n",
       "75%         1.200000e+07\n",
       "max         1.760000e+10"
      ]
     },
     "execution_count": 20,
     "metadata": {},
     "output_type": "execute_result"
    }
   ],
   "source": [
    "venture = ftype_df[ftype_df['funding_round_type']=='venture']\n",
    "#No futher treatment of outliers as none found       \n",
    "venture.describe()"
   ]
  },
  {
   "cell_type": "code",
   "execution_count": 21,
   "metadata": {},
   "outputs": [
    {
     "name": "stderr",
     "output_type": "stream",
     "text": [
      "<ipython-input-21-02592177478f>:7: UserWarning: Matplotlib is currently using module://ipykernel.pylab.backend_inline, which is a non-GUI backend, so cannot show the figure.\n",
      "  fig.show()\n"
     ]
    },
    {
     "data": {
      "image/png": "[encoded data removed]",
      "text/plain": [
       "<Figure size 432x288 with 3 Axes>"
      ]
     },
     "metadata": {
      "needs_background": "light"
     },
     "output_type": "display_data"
    }
   ],
   "source": [
    "fig=figsize=[30,30]\n",
    "fig, ax =plt.subplots(1,3)\n",
    "sns.distplot(venture.raised_amount_usd,bins=30,ax=ax[0]).set_title(\"Venture\")\n",
    "chart3=sns.boxplot(x=\"funding_round_type\",y=\"raised_amount_usd\",data=venture,palette='Set1',ax=ax[1])\n",
    "plt.hist(venture.raised_amount_usd)\n",
    "chart3.set_xticklabels(chart3.get_xticklabels(),rotation=45)\n",
    "fig.show()"
   ]
  },
  {
   "cell_type": "code",
   "execution_count": 22,
   "metadata": {},
   "outputs": [
    {
     "data": {
      "text/html": [
       "<div>\n",
       "<style scoped>\n",
       "    .dataframe tbody tr th:only-of-type {\n",
       "        vertical-align: middle;\n",
       "    }\n",
       "\n",
       "    .dataframe tbody tr th {\n",
       "        vertical-align: top;\n",
       "    }\n",
       "\n",
       "    .dataframe thead th {\n",
       "        text-align: right;\n",
       "    }\n",
       "</style>\n",
       "<table border=\"1\" class=\"dataframe\">\n",
       "  <thead>\n",
       "    <tr style=\"text-align: right;\">\n",
       "      <th></th>\n",
       "      <th>raised_amount_usd</th>\n",
       "    </tr>\n",
       "  </thead>\n",
       "  <tbody>\n",
       "    <tr>\n",
       "      <th>count</th>\n",
       "      <td>1.933000e+03</td>\n",
       "    </tr>\n",
       "    <tr>\n",
       "      <th>mean</th>\n",
       "      <td>7.342237e+07</td>\n",
       "    </tr>\n",
       "    <tr>\n",
       "      <th>std</th>\n",
       "      <td>1.982461e+08</td>\n",
       "    </tr>\n",
       "    <tr>\n",
       "      <th>min</th>\n",
       "      <td>6.000000e+00</td>\n",
       "    </tr>\n",
       "    <tr>\n",
       "      <th>25%</th>\n",
       "      <td>5.000000e+06</td>\n",
       "    </tr>\n",
       "    <tr>\n",
       "      <th>50%</th>\n",
       "      <td>2.000000e+07</td>\n",
       "    </tr>\n",
       "    <tr>\n",
       "      <th>75%</th>\n",
       "      <td>7.500000e+07</td>\n",
       "    </tr>\n",
       "    <tr>\n",
       "      <th>max</th>\n",
       "      <td>4.745460e+09</td>\n",
       "    </tr>\n",
       "  </tbody>\n",
       "</table>\n",
       "</div>"
      ],
      "text/plain": [
       "       raised_amount_usd\n",
       "count       1.933000e+03\n",
       "mean        7.342237e+07\n",
       "std         1.982461e+08\n",
       "min         6.000000e+00\n",
       "25%         5.000000e+06\n",
       "50%         2.000000e+07\n",
       "75%         7.500000e+07\n",
       "max         4.745460e+09"
      ]
     },
     "execution_count": 22,
     "metadata": {},
     "output_type": "execute_result"
    }
   ],
   "source": [
    "private_equity = ftype_df[ftype_df['funding_round_type']=='private_equity']\n",
    "#No futher outlier management carried out\n",
    "private_equity.describe()"
   ]
  },
  {
   "cell_type": "code",
   "execution_count": 23,
   "metadata": {},
   "outputs": [
    {
     "name": "stderr",
     "output_type": "stream",
     "text": [
      "<ipython-input-23-af89d1473ca2>:8: UserWarning: Matplotlib is currently using module://ipykernel.pylab.backend_inline, which is a non-GUI backend, so cannot show the figure.\n",
      "  fig.show()\n"
     ]
    },
    {
     "data": {
      "image/png": "[encoded data removed]",
      "text/plain": [
       "<Figure size 432x288 with 3 Axes>"
      ]
     },
     "metadata": {
      "needs_background": "light"
     },
     "output_type": "display_data"
    }
   ],
   "source": [
    "fig=figsize=[30,30]\n",
    "fig, ax =plt.subplots(1,3)\n",
    "sns.distplot(private_equity.raised_amount_usd,bins=30,ax=ax[0]).set_title(\"Private_equity\")\n",
    "chart4=sns.boxplot(x=\"funding_round_type\",y=\"raised_amount_usd\",data=private_equity,palette='Set2',ax=ax[1])\n",
    "\n",
    "chart4.set_xticklabels(chart4.get_xticklabels(),rotation=45)\n",
    "plt.hist(private_equity.raised_amount_usd)\n",
    "fig.show()"
   ]
  },
  {
   "cell_type": "markdown",
   "metadata": {},
   "source": [
    "### Analysis of funding type | Country & Category"
   ]
  },
  {
   "cell_type": "markdown",
   "metadata": {},
   "source": [
    "### Top 9 countries (In Terms of Investment)"
   ]
  },
  {
   "cell_type": "code",
   "execution_count": 24,
   "metadata": {},
   "outputs": [
    {
     "data": {
      "text/plain": [
       "country_code\n",
       "USA    6.694821e+11\n",
       "CHN    7.570357e+10\n",
       "GBR    3.276705e+10\n",
       "IND    2.768634e+10\n",
       "CAN    1.842468e+10\n",
       "RUS    1.127912e+10\n",
       "DEU    1.001776e+10\n",
       "ISR    9.713885e+09\n",
       "FRA    9.059771e+09\n",
       "Name: raised_amount_usd, dtype: float64"
      ]
     },
     "execution_count": 24,
     "metadata": {},
     "output_type": "execute_result"
    }
   ],
   "source": [
    "#Getting the top 9 countries in terms of total investement\n",
    "top9=master_frame.pivot_table(index='country_code',values='raised_amount_usd',aggfunc='sum')\n",
    "top9['raised_amount_usd'].nlargest(9)"
   ]
  },
  {
   "cell_type": "markdown",
   "metadata": {},
   "source": [
    "### Top 3 English Speaking Countries - USA, GBR, IND"
   ]
  },
  {
   "cell_type": "markdown",
   "metadata": {},
   "source": [
    "### Sectorwise Investment Analysis"
   ]
  },
  {
   "cell_type": "markdown",
   "metadata": {},
   "source": [
    "### Splitting the Category_list "
   ]
  },
  {
   "cell_type": "code",
   "execution_count": 25,
   "metadata": {},
   "outputs": [],
   "source": [
    "import re\n",
    "new = master_frame['category_list'].str.split(\"|\", n = 1, expand = True)\n",
    "master_frame['category_list_split1']=new[0]\n",
    "master_frame['category_list_split2']=new[1]"
   ]
  },
  {
   "cell_type": "markdown",
   "metadata": {},
   "source": [
    "### Extracting Category Mapping"
   ]
  },
  {
   "cell_type": "code",
   "execution_count": 26,
   "metadata": {},
   "outputs": [
    {
     "data": {
      "text/html": [
       "<div>\n",
       "<style scoped>\n",
       "    .dataframe tbody tr th:only-of-type {\n",
       "        vertical-align: middle;\n",
       "    }\n",
       "\n",
       "    .dataframe tbody tr th {\n",
       "        vertical-align: top;\n",
       "    }\n",
       "\n",
       "    .dataframe thead th {\n",
       "        text-align: right;\n",
       "    }\n",
       "</style>\n",
       "<table border=\"1\" class=\"dataframe\">\n",
       "  <thead>\n",
       "    <tr style=\"text-align: right;\">\n",
       "      <th></th>\n",
       "      <th>category_list</th>\n",
       "      <th>Automotive &amp; Sports</th>\n",
       "      <th>Blanks</th>\n",
       "      <th>Cleantech / Semiconductors</th>\n",
       "      <th>Entertainment</th>\n",
       "      <th>Health</th>\n",
       "      <th>Manufacturing</th>\n",
       "      <th>News, Search and Messaging</th>\n",
       "      <th>Others</th>\n",
       "      <th>Social, Finance, Analytics, Advertising</th>\n",
       "    </tr>\n",
       "  </thead>\n",
       "  <tbody>\n",
       "    <tr>\n",
       "      <th>0</th>\n",
       "      <td>NaN</td>\n",
       "      <td>0</td>\n",
       "      <td>1</td>\n",
       "      <td>0</td>\n",
       "      <td>0</td>\n",
       "      <td>0</td>\n",
       "      <td>0</td>\n",
       "      <td>0</td>\n",
       "      <td>0</td>\n",
       "      <td>0</td>\n",
       "    </tr>\n",
       "    <tr>\n",
       "      <th>1</th>\n",
       "      <td>3D</td>\n",
       "      <td>0</td>\n",
       "      <td>0</td>\n",
       "      <td>0</td>\n",
       "      <td>0</td>\n",
       "      <td>0</td>\n",
       "      <td>1</td>\n",
       "      <td>0</td>\n",
       "      <td>0</td>\n",
       "      <td>0</td>\n",
       "    </tr>\n",
       "    <tr>\n",
       "      <th>2</th>\n",
       "      <td>3D Printing</td>\n",
       "      <td>0</td>\n",
       "      <td>0</td>\n",
       "      <td>0</td>\n",
       "      <td>0</td>\n",
       "      <td>0</td>\n",
       "      <td>1</td>\n",
       "      <td>0</td>\n",
       "      <td>0</td>\n",
       "      <td>0</td>\n",
       "    </tr>\n",
       "    <tr>\n",
       "      <th>3</th>\n",
       "      <td>3D Technology</td>\n",
       "      <td>0</td>\n",
       "      <td>0</td>\n",
       "      <td>0</td>\n",
       "      <td>0</td>\n",
       "      <td>0</td>\n",
       "      <td>1</td>\n",
       "      <td>0</td>\n",
       "      <td>0</td>\n",
       "      <td>0</td>\n",
       "    </tr>\n",
       "    <tr>\n",
       "      <th>4</th>\n",
       "      <td>Accounting</td>\n",
       "      <td>0</td>\n",
       "      <td>0</td>\n",
       "      <td>0</td>\n",
       "      <td>0</td>\n",
       "      <td>0</td>\n",
       "      <td>0</td>\n",
       "      <td>0</td>\n",
       "      <td>0</td>\n",
       "      <td>1</td>\n",
       "    </tr>\n",
       "  </tbody>\n",
       "</table>\n",
       "</div>"
      ],
      "text/plain": [
       "   category_list  Automotive & Sports  Blanks  Cleantech / Semiconductors  \\\n",
       "0            NaN                    0       1                           0   \n",
       "1             3D                    0       0                           0   \n",
       "2    3D Printing                    0       0                           0   \n",
       "3  3D Technology                    0       0                           0   \n",
       "4     Accounting                    0       0                           0   \n",
       "\n",
       "   Entertainment  Health  Manufacturing  News, Search and Messaging  Others  \\\n",
       "0              0       0              0                           0       0   \n",
       "1              0       0              1                           0       0   \n",
       "2              0       0              1                           0       0   \n",
       "3              0       0              1                           0       0   \n",
       "4              0       0              0                           0       0   \n",
       "\n",
       "   Social, Finance, Analytics, Advertising  \n",
       "0                                        0  \n",
       "1                                        0  \n",
       "2                                        0  \n",
       "3                                        0  \n",
       "4                                        1  "
      ]
     },
     "execution_count": 26,
     "metadata": {},
     "output_type": "execute_result"
    }
   ],
   "source": [
    "cat_map=pd.read_csv(\"D:\\\\MS AI ML\\\\Investment Analysis Assignment\\\\mapping.csv\", encoding = 'Unicode_escape')\n",
    "cat_map.head()"
   ]
  },
  {
   "cell_type": "markdown",
   "metadata": {},
   "source": [
    "### Creating Master Frame with Mapped Category Data"
   ]
  },
  {
   "cell_type": "code",
   "execution_count": 27,
   "metadata": {},
   "outputs": [
    {
     "data": {
      "text/plain": [
       "88233"
      ]
     },
     "execution_count": 27,
     "metadata": {},
     "output_type": "execute_result"
    }
   ],
   "source": [
    "master_frame_map= pd.merge(left=master_frame, right=cat_map, how = 'inner', left_on='category_list_split1', right_on='category_list',indicator=True)\n",
    "master_frame_map.tail()\n",
    "mst=master_frame_map['raised_amount_usd']==0\n",
    "mst.count()"
   ]
  },
  {
   "cell_type": "markdown",
   "metadata": {},
   "source": [
    "### Creating DFs for Top 3"
   ]
  },
  {
   "cell_type": "code",
   "execution_count": 28,
   "metadata": {},
   "outputs": [],
   "source": [
    "sect_an_USA = master_frame_map[master_frame_map['country_code']=='USA']\n",
    "sect_an_GBR = master_frame_map[master_frame_map['country_code']=='GBR']\n",
    "sect_an_IND = master_frame_map[master_frame_map['country_code']=='IND']"
   ]
  },
  {
   "cell_type": "markdown",
   "metadata": {},
   "source": [
    "#### Checking for Sum invested and frequency of investment -USA"
   ]
  },
  {
   "cell_type": "code",
   "execution_count": 29,
   "metadata": {},
   "outputs": [
    {
     "data": {
      "text/plain": [
       "626802125352.0"
      ]
     },
     "execution_count": 29,
     "metadata": {},
     "output_type": "execute_result"
    }
   ],
   "source": [
    "sect_an_USA['raised_amount_usd'].count()\n",
    "sect_an_USA['raised_amount_usd'].sum()"
   ]
  },
  {
   "cell_type": "markdown",
   "metadata": {},
   "source": [
    "#### Checking for Sum invested and frequency of investment -GBR"
   ]
  },
  {
   "cell_type": "code",
   "execution_count": 30,
   "metadata": {},
   "outputs": [
    {
     "data": {
      "text/plain": [
       "30313202245.0"
      ]
     },
     "execution_count": 30,
     "metadata": {},
     "output_type": "execute_result"
    }
   ],
   "source": [
    "sect_an_GBR['raised_amount_usd'].count()\n",
    "sect_an_GBR['raised_amount_usd'].sum()"
   ]
  },
  {
   "cell_type": "markdown",
   "metadata": {},
   "source": [
    "#### Checking for Sum invested and frequency of investment -IND"
   ]
  },
  {
   "cell_type": "code",
   "execution_count": 31,
   "metadata": {},
   "outputs": [
    {
     "data": {
      "text/plain": [
       "26632581077.0"
      ]
     },
     "execution_count": 31,
     "metadata": {},
     "output_type": "execute_result"
    }
   ],
   "source": [
    "#sect_an_IND.head(5)\n",
    "sect_an_IND['raised_amount_usd'].count()\n",
    "sect_an_IND['raised_amount_usd'].sum()"
   ]
  },
  {
   "cell_type": "markdown",
   "metadata": {},
   "source": [
    "### Identifying Top 3 Sectors invested in the Top 3 Countries"
   ]
  },
  {
   "cell_type": "markdown",
   "metadata": {},
   "source": [
    "### US Top 3 Analysis"
   ]
  },
  {
   "cell_type": "code",
   "execution_count": 32,
   "metadata": {},
   "outputs": [
    {
     "data": {
      "text/html": [
       "<div>\n",
       "<style scoped>\n",
       "    .dataframe tbody tr th:only-of-type {\n",
       "        vertical-align: middle;\n",
       "    }\n",
       "\n",
       "    .dataframe tbody tr th {\n",
       "        vertical-align: top;\n",
       "    }\n",
       "\n",
       "    .dataframe thead th {\n",
       "        text-align: right;\n",
       "    }\n",
       "</style>\n",
       "<table border=\"1\" class=\"dataframe\">\n",
       "  <thead>\n",
       "    <tr style=\"text-align: right;\">\n",
       "      <th></th>\n",
       "      <th>raised_amount_usd</th>\n",
       "    </tr>\n",
       "    <tr>\n",
       "      <th>category_list_split1</th>\n",
       "      <th></th>\n",
       "    </tr>\n",
       "  </thead>\n",
       "  <tbody>\n",
       "    <tr>\n",
       "      <th>Biotechnology</th>\n",
       "      <td>9.429325e+10</td>\n",
       "    </tr>\n",
       "    <tr>\n",
       "      <th>Clean Technology</th>\n",
       "      <td>3.516836e+10</td>\n",
       "    </tr>\n",
       "    <tr>\n",
       "      <th>Communications Infrastructure</th>\n",
       "      <td>3.089105e+10</td>\n",
       "    </tr>\n",
       "    <tr>\n",
       "      <th>Software</th>\n",
       "      <td>3.028905e+10</td>\n",
       "    </tr>\n",
       "    <tr>\n",
       "      <th>Semiconductors</th>\n",
       "      <td>2.759712e+10</td>\n",
       "    </tr>\n",
       "    <tr>\n",
       "      <th>...</th>\n",
       "      <td>...</td>\n",
       "    </tr>\n",
       "    <tr>\n",
       "      <th>Textiles</th>\n",
       "      <td>1.700000e+04</td>\n",
       "    </tr>\n",
       "    <tr>\n",
       "      <th>Postal and Courier Services</th>\n",
       "      <td>1.500000e+04</td>\n",
       "    </tr>\n",
       "    <tr>\n",
       "      <th>Boating Industry</th>\n",
       "      <td>1.000000e+04</td>\n",
       "    </tr>\n",
       "    <tr>\n",
       "      <th>Social News</th>\n",
       "      <td>1.000000e+04</td>\n",
       "    </tr>\n",
       "    <tr>\n",
       "      <th>Handmade</th>\n",
       "      <td>1.000000e+04</td>\n",
       "    </tr>\n",
       "  </tbody>\n",
       "</table>\n",
       "<p>583 rows × 1 columns</p>\n",
       "</div>"
      ],
      "text/plain": [
       "                               raised_amount_usd\n",
       "category_list_split1                            \n",
       "Biotechnology                       9.429325e+10\n",
       "Clean Technology                    3.516836e+10\n",
       "Communications Infrastructure       3.089105e+10\n",
       "Software                            3.028905e+10\n",
       "Semiconductors                      2.759712e+10\n",
       "...                                          ...\n",
       "Textiles                            1.700000e+04\n",
       "Postal and Courier Services         1.500000e+04\n",
       "Boating Industry                    1.000000e+04\n",
       "Social News                         1.000000e+04\n",
       "Handmade                            1.000000e+04\n",
       "\n",
       "[583 rows x 1 columns]"
      ]
     },
     "execution_count": 32,
     "metadata": {},
     "output_type": "execute_result"
    }
   ],
   "source": [
    "sect_an_USA_pv_sectnm=sect_an_USA.pivot_table(index='category_list_split1',values='raised_amount_usd',aggfunc=sum)\n",
    "sect_an_USA_pd_sectnm= pd.DataFrame(sect_an_USA_pv_sectnm)\n",
    "sect_an_USA_pd_sectnm=sect_an_USA_pd_sectnm.sort_values(by='raised_amount_usd', ascending=False)\n",
    "sect_an_USA_pd_sectnm"
   ]
  },
  {
   "cell_type": "markdown",
   "metadata": {},
   "source": [
    "### GBR Top 3 Analysis"
   ]
  },
  {
   "cell_type": "code",
   "execution_count": 33,
   "metadata": {},
   "outputs": [
    {
     "data": {
      "text/html": [
       "<div>\n",
       "<style scoped>\n",
       "    .dataframe tbody tr th:only-of-type {\n",
       "        vertical-align: middle;\n",
       "    }\n",
       "\n",
       "    .dataframe tbody tr th {\n",
       "        vertical-align: top;\n",
       "    }\n",
       "\n",
       "    .dataframe thead th {\n",
       "        text-align: right;\n",
       "    }\n",
       "</style>\n",
       "<table border=\"1\" class=\"dataframe\">\n",
       "  <thead>\n",
       "    <tr style=\"text-align: right;\">\n",
       "      <th></th>\n",
       "      <th>raised_amount_usd</th>\n",
       "    </tr>\n",
       "    <tr>\n",
       "      <th>category_list_split1</th>\n",
       "      <th></th>\n",
       "    </tr>\n",
       "  </thead>\n",
       "  <tbody>\n",
       "    <tr>\n",
       "      <th>Biotechnology</th>\n",
       "      <td>5.311955e+09</td>\n",
       "    </tr>\n",
       "    <tr>\n",
       "      <th>Mobile</th>\n",
       "      <td>1.811143e+09</td>\n",
       "    </tr>\n",
       "    <tr>\n",
       "      <th>Software</th>\n",
       "      <td>1.442992e+09</td>\n",
       "    </tr>\n",
       "    <tr>\n",
       "      <th>Clean Technology</th>\n",
       "      <td>1.172647e+09</td>\n",
       "    </tr>\n",
       "    <tr>\n",
       "      <th>E-Commerce</th>\n",
       "      <td>1.170808e+09</td>\n",
       "    </tr>\n",
       "    <tr>\n",
       "      <th>...</th>\n",
       "      <td>...</td>\n",
       "    </tr>\n",
       "    <tr>\n",
       "      <th>Intelligent Systems</th>\n",
       "      <td>1.888500e+04</td>\n",
       "    </tr>\n",
       "    <tr>\n",
       "      <th>Baby Accessories</th>\n",
       "      <td>1.769300e+04</td>\n",
       "    </tr>\n",
       "    <tr>\n",
       "      <th>File Sharing</th>\n",
       "      <td>1.719100e+04</td>\n",
       "    </tr>\n",
       "    <tr>\n",
       "      <th>Real Time</th>\n",
       "      <td>1.500000e+04</td>\n",
       "    </tr>\n",
       "    <tr>\n",
       "      <th>Comparison Shopping</th>\n",
       "      <td>3.345000e+03</td>\n",
       "    </tr>\n",
       "  </tbody>\n",
       "</table>\n",
       "<p>327 rows × 1 columns</p>\n",
       "</div>"
      ],
      "text/plain": [
       "                      raised_amount_usd\n",
       "category_list_split1                   \n",
       "Biotechnology              5.311955e+09\n",
       "Mobile                     1.811143e+09\n",
       "Software                   1.442992e+09\n",
       "Clean Technology           1.172647e+09\n",
       "E-Commerce                 1.170808e+09\n",
       "...                                 ...\n",
       "Intelligent Systems        1.888500e+04\n",
       "Baby Accessories           1.769300e+04\n",
       "File Sharing               1.719100e+04\n",
       "Real Time                  1.500000e+04\n",
       "Comparison Shopping        3.345000e+03\n",
       "\n",
       "[327 rows x 1 columns]"
      ]
     },
     "execution_count": 33,
     "metadata": {},
     "output_type": "execute_result"
    }
   ],
   "source": [
    "sect_an_GBR_pv_sectnm=sect_an_GBR.pivot_table(index='category_list_split1',values=['raised_amount_usd'],aggfunc=sum)\n",
    "sect_an_GBR_pd_sectnm= pd.DataFrame(sect_an_GBR_pv_sectnm)\n",
    "sect_an_GBR_pd_sectnm=sect_an_GBR_pd_sectnm.sort_values(by='raised_amount_usd', ascending=False)\n",
    "sect_an_GBR_pd_sectnm"
   ]
  },
  {
   "cell_type": "markdown",
   "metadata": {},
   "source": [
    "### IND Top 3 Analysis"
   ]
  },
  {
   "cell_type": "code",
   "execution_count": 34,
   "metadata": {},
   "outputs": [
    {
     "data": {
      "text/html": [
       "<div>\n",
       "<style scoped>\n",
       "    .dataframe tbody tr th:only-of-type {\n",
       "        vertical-align: middle;\n",
       "    }\n",
       "\n",
       "    .dataframe tbody tr th {\n",
       "        vertical-align: top;\n",
       "    }\n",
       "\n",
       "    .dataframe thead th {\n",
       "        text-align: right;\n",
       "    }\n",
       "</style>\n",
       "<table border=\"1\" class=\"dataframe\">\n",
       "  <thead>\n",
       "    <tr style=\"text-align: right;\">\n",
       "      <th></th>\n",
       "      <th>raised_amount_usd</th>\n",
       "    </tr>\n",
       "    <tr>\n",
       "      <th>category_list_split1</th>\n",
       "      <th></th>\n",
       "    </tr>\n",
       "  </thead>\n",
       "  <tbody>\n",
       "    <tr>\n",
       "      <th>E-Commerce</th>\n",
       "      <td>7.210979e+09</td>\n",
       "    </tr>\n",
       "    <tr>\n",
       "      <th>Development Platforms</th>\n",
       "      <td>3.000580e+09</td>\n",
       "    </tr>\n",
       "    <tr>\n",
       "      <th>Clean Technology</th>\n",
       "      <td>2.177848e+09</td>\n",
       "    </tr>\n",
       "    <tr>\n",
       "      <th>Automotive</th>\n",
       "      <td>1.480141e+09</td>\n",
       "    </tr>\n",
       "    <tr>\n",
       "      <th>Mobile</th>\n",
       "      <td>1.264647e+09</td>\n",
       "    </tr>\n",
       "    <tr>\n",
       "      <th>...</th>\n",
       "      <td>...</td>\n",
       "    </tr>\n",
       "    <tr>\n",
       "      <th>Private Social Networking</th>\n",
       "      <td>3.000000e+04</td>\n",
       "    </tr>\n",
       "    <tr>\n",
       "      <th>Market Research</th>\n",
       "      <td>2.300000e+04</td>\n",
       "    </tr>\n",
       "    <tr>\n",
       "      <th>Cloud Infrastructure</th>\n",
       "      <td>2.000000e+04</td>\n",
       "    </tr>\n",
       "    <tr>\n",
       "      <th>Electric Vehicles</th>\n",
       "      <td>8.311000e+03</td>\n",
       "    </tr>\n",
       "    <tr>\n",
       "      <th>Domains</th>\n",
       "      <td>5.000000e+03</td>\n",
       "    </tr>\n",
       "  </tbody>\n",
       "</table>\n",
       "<p>222 rows × 1 columns</p>\n",
       "</div>"
      ],
      "text/plain": [
       "                           raised_amount_usd\n",
       "category_list_split1                        \n",
       "E-Commerce                      7.210979e+09\n",
       "Development Platforms           3.000580e+09\n",
       "Clean Technology                2.177848e+09\n",
       "Automotive                      1.480141e+09\n",
       "Mobile                          1.264647e+09\n",
       "...                                      ...\n",
       "Private Social Networking       3.000000e+04\n",
       "Market Research                 2.300000e+04\n",
       "Cloud Infrastructure            2.000000e+04\n",
       "Electric Vehicles               8.311000e+03\n",
       "Domains                         5.000000e+03\n",
       "\n",
       "[222 rows x 1 columns]"
      ]
     },
     "execution_count": 34,
     "metadata": {},
     "output_type": "execute_result"
    }
   ],
   "source": [
    "sect_an_IND_pv_sectnm=sect_an_IND.pivot_table(index=['category_list_split1'],values='raised_amount_usd',aggfunc=sum,dropna=True)\n",
    "sect_an_IND_pd_sectnm= pd.DataFrame(sect_an_IND_pv_sectnm)\n",
    "sect_an_IND_pd_sectnm=sect_an_IND_pd_sectnm.sort_values(by='raised_amount_usd', ascending=False)\n",
    "sect_an_IND_pd_sectnm"
   ]
  },
  {
   "cell_type": "markdown",
   "metadata": {},
   "source": [
    "#### USA High Funding companies"
   ]
  },
  {
   "cell_type": "code",
   "execution_count": 35,
   "metadata": {},
   "outputs": [
    {
     "data": {
      "text/html": [
       "<div>\n",
       "<style scoped>\n",
       "    .dataframe tbody tr th:only-of-type {\n",
       "        vertical-align: middle;\n",
       "    }\n",
       "\n",
       "    .dataframe tbody tr th {\n",
       "        vertical-align: top;\n",
       "    }\n",
       "\n",
       "    .dataframe thead th {\n",
       "        text-align: right;\n",
       "    }\n",
       "</style>\n",
       "<table border=\"1\" class=\"dataframe\">\n",
       "  <thead>\n",
       "    <tr style=\"text-align: right;\">\n",
       "      <th></th>\n",
       "      <th>category_list_split1</th>\n",
       "      <th>name</th>\n",
       "      <th>raised_amount_usd</th>\n",
       "    </tr>\n",
       "  </thead>\n",
       "  <tbody>\n",
       "    <tr>\n",
       "      <th>0</th>\n",
       "      <td>3D</td>\n",
       "      <td>3D Eye Solutions</td>\n",
       "      <td>380000.0</td>\n",
       "    </tr>\n",
       "    <tr>\n",
       "      <th>1</th>\n",
       "      <td>3D</td>\n",
       "      <td>3D Product Imaging</td>\n",
       "      <td>240000.0</td>\n",
       "    </tr>\n",
       "    <tr>\n",
       "      <th>2</th>\n",
       "      <td>3D</td>\n",
       "      <td>3D-4U</td>\n",
       "      <td>750000.0</td>\n",
       "    </tr>\n",
       "    <tr>\n",
       "      <th>3</th>\n",
       "      <td>3D</td>\n",
       "      <td>3Derm Systems</td>\n",
       "      <td>1880000.0</td>\n",
       "    </tr>\n",
       "    <tr>\n",
       "      <th>4</th>\n",
       "      <td>3D</td>\n",
       "      <td>A2Zlogix</td>\n",
       "      <td>25000000.0</td>\n",
       "    </tr>\n",
       "    <tr>\n",
       "      <th>...</th>\n",
       "      <td>...</td>\n",
       "      <td>...</td>\n",
       "      <td>...</td>\n",
       "    </tr>\n",
       "    <tr>\n",
       "      <th>29125</th>\n",
       "      <td>iPhone</td>\n",
       "      <td>Twist</td>\n",
       "      <td>6000000.0</td>\n",
       "    </tr>\n",
       "    <tr>\n",
       "      <th>29126</th>\n",
       "      <td>iPhone</td>\n",
       "      <td>Wallit</td>\n",
       "      <td>1200000.0</td>\n",
       "    </tr>\n",
       "    <tr>\n",
       "      <th>29127</th>\n",
       "      <td>iPhone</td>\n",
       "      <td>Wedding Party</td>\n",
       "      <td>1000000.0</td>\n",
       "    </tr>\n",
       "    <tr>\n",
       "      <th>29128</th>\n",
       "      <td>iPhone</td>\n",
       "      <td>Wyst</td>\n",
       "      <td>200000.0</td>\n",
       "    </tr>\n",
       "    <tr>\n",
       "      <th>29129</th>\n",
       "      <td>iPhone</td>\n",
       "      <td>globa.ly</td>\n",
       "      <td>15000.0</td>\n",
       "    </tr>\n",
       "  </tbody>\n",
       "</table>\n",
       "<p>29130 rows × 3 columns</p>\n",
       "</div>"
      ],
      "text/plain": [
       "      category_list_split1                name  raised_amount_usd\n",
       "0                       3D    3D Eye Solutions           380000.0\n",
       "1                       3D  3D Product Imaging           240000.0\n",
       "2                       3D               3D-4U           750000.0\n",
       "3                       3D       3Derm Systems          1880000.0\n",
       "4                       3D            A2Zlogix         25000000.0\n",
       "...                    ...                 ...                ...\n",
       "29125               iPhone               Twist          6000000.0\n",
       "29126               iPhone              Wallit          1200000.0\n",
       "29127               iPhone       Wedding Party          1000000.0\n",
       "29128               iPhone                Wyst           200000.0\n",
       "29129               iPhone            globa.ly            15000.0\n",
       "\n",
       "[29130 rows x 3 columns]"
      ]
     },
     "execution_count": 35,
     "metadata": {},
     "output_type": "execute_result"
    }
   ],
   "source": [
    "sect_an_USA_pv_sectnm=sect_an_USA.pivot_table(index=['category_list_split1','name'],values='raised_amount_usd',aggfunc=sum)\n",
    "sect_an_USA_pd_sectnm= pd.DataFrame(sect_an_USA_pv_sectnm)\n",
    "sect_an_USA_pd_sectnm = sect_an_USA_pd_sectnm.reset_index()\n",
    "filter = (sect_an_USA_pd_sectnm['category_list_split1']=='Biotechnology') | (sect_an_USA_pd_sectnm['category_list_split1']=='Clean Technology') | (sect_an_USA_pd_sectnm['category_list_split1']=='Communications Infrastructure')\n",
    "sect_an_USA_pd_sectnm_h = sect_an_USA_pd_sectnm.loc[filter]\n",
    "sect_an_USA_h_pv = sect_an_USA_pd_sectnm_h.pivot_table(index=['category_list_split1','name'],values='raised_amount_usd')\n",
    "sect_an_USA_pd_h = sect_an_USA_h_pv.reset_index()\n",
    "sect_an_USA_pd_h.nlargest(10,'raised_amount_usd').sort_values(['raised_amount_usd','category_list_split1'],ascending=False)\n",
    "type(sect_an_USA_pv_sectnm)\n",
    "sect_an_USA_pd_sectnm"
   ]
  },
  {
   "cell_type": "markdown",
   "metadata": {},
   "source": [
    "#### GBR High Funding companies\n"
   ]
  },
  {
   "cell_type": "code",
   "execution_count": 36,
   "metadata": {},
   "outputs": [
    {
     "data": {
      "text/html": [
       "<div>\n",
       "<style scoped>\n",
       "    .dataframe tbody tr th:only-of-type {\n",
       "        vertical-align: middle;\n",
       "    }\n",
       "\n",
       "    .dataframe tbody tr th {\n",
       "        vertical-align: top;\n",
       "    }\n",
       "\n",
       "    .dataframe thead th {\n",
       "        text-align: right;\n",
       "    }\n",
       "</style>\n",
       "<table border=\"1\" class=\"dataframe\">\n",
       "  <thead>\n",
       "    <tr style=\"text-align: right;\">\n",
       "      <th></th>\n",
       "      <th>category_list_split1</th>\n",
       "      <th>name</th>\n",
       "      <th>raised_amount_usd</th>\n",
       "    </tr>\n",
       "  </thead>\n",
       "  <tbody>\n",
       "    <tr>\n",
       "      <th>243</th>\n",
       "      <td>Mobile</td>\n",
       "      <td>IHS Holding</td>\n",
       "      <td>620000000.0</td>\n",
       "    </tr>\n",
       "    <tr>\n",
       "      <th>208</th>\n",
       "      <td>Biotechnology</td>\n",
       "      <td>Vertex Pharmaceuticals</td>\n",
       "      <td>600397225.0</td>\n",
       "    </tr>\n",
       "    <tr>\n",
       "      <th>102</th>\n",
       "      <td>Biotechnology</td>\n",
       "      <td>Immunocore</td>\n",
       "      <td>320000000.0</td>\n",
       "    </tr>\n",
       "    <tr>\n",
       "      <th>245</th>\n",
       "      <td>Mobile</td>\n",
       "      <td>Icera</td>\n",
       "      <td>244500000.0</td>\n",
       "    </tr>\n",
       "    <tr>\n",
       "      <th>258</th>\n",
       "      <td>Mobile</td>\n",
       "      <td>Monitise</td>\n",
       "      <td>232329416.0</td>\n",
       "    </tr>\n",
       "    <tr>\n",
       "      <th>91</th>\n",
       "      <td>Biotechnology</td>\n",
       "      <td>GW Pharmaceuticals</td>\n",
       "      <td>179200000.0</td>\n",
       "    </tr>\n",
       "    <tr>\n",
       "      <th>175</th>\n",
       "      <td>Biotechnology</td>\n",
       "      <td>ReNeuron Group</td>\n",
       "      <td>162784127.0</td>\n",
       "    </tr>\n",
       "    <tr>\n",
       "      <th>55</th>\n",
       "      <td>Biotechnology</td>\n",
       "      <td>Circassia</td>\n",
       "      <td>144630999.0</td>\n",
       "    </tr>\n",
       "    <tr>\n",
       "      <th>32</th>\n",
       "      <td>Biotechnology</td>\n",
       "      <td>BioVex</td>\n",
       "      <td>133314585.0</td>\n",
       "    </tr>\n",
       "    <tr>\n",
       "      <th>211</th>\n",
       "      <td>Biotechnology</td>\n",
       "      <td>Vitaldent</td>\n",
       "      <td>128660000.0</td>\n",
       "    </tr>\n",
       "  </tbody>\n",
       "</table>\n",
       "</div>"
      ],
      "text/plain": [
       "    category_list_split1                    name  raised_amount_usd\n",
       "243               Mobile             IHS Holding        620000000.0\n",
       "208        Biotechnology  Vertex Pharmaceuticals        600397225.0\n",
       "102        Biotechnology              Immunocore        320000000.0\n",
       "245               Mobile                   Icera        244500000.0\n",
       "258               Mobile                Monitise        232329416.0\n",
       "91         Biotechnology      GW Pharmaceuticals        179200000.0\n",
       "175        Biotechnology          ReNeuron Group        162784127.0\n",
       "55         Biotechnology               Circassia        144630999.0\n",
       "32         Biotechnology                  BioVex        133314585.0\n",
       "211        Biotechnology               Vitaldent        128660000.0"
      ]
     },
     "execution_count": 36,
     "metadata": {},
     "output_type": "execute_result"
    }
   ],
   "source": [
    "sect_an_GBR_pv_sectnm=sect_an_GBR.pivot_table(index=['category_list_split1','name'],values='raised_amount_usd',aggfunc=sum)\n",
    "sect_an_GBR_pd_sectnm= pd.DataFrame(sect_an_GBR_pv_sectnm)\n",
    "sect_an_GBR_pd_sectnm = sect_an_GBR_pd_sectnm.reset_index()\n",
    "\n",
    "filter = (sect_an_GBR_pd_sectnm['category_list_split1']=='Biotechnology') | (sect_an_GBR_pd_sectnm['category_list_split1']=='Software') | (sect_an_GBR_pd_sectnm['category_list_split1']=='Mobile') \n",
    "sect_an_GBR_pd_sectnm_h = sect_an_GBR_pd_sectnm.loc[filter]\n",
    "sect_an_GBR_h_pv = sect_an_GBR_pd_sectnm_h.pivot_table(index=['category_list_split1','name'],values='raised_amount_usd')\n",
    "sect_an_GBR_pd_h = sect_an_GBR_h_pv.reset_index()\n",
    "sect_an_GBR_pd_h.nlargest(10,'raised_amount_usd').sort_values(['raised_amount_usd','category_list_split1'],ascending=False)"
   ]
  },
  {
   "cell_type": "markdown",
   "metadata": {},
   "source": [
    "#### IND High Funding companies\n"
   ]
  },
  {
   "cell_type": "code",
   "execution_count": 37,
   "metadata": {},
   "outputs": [
    {
     "data": {
      "text/html": [
       "<div>\n",
       "<style scoped>\n",
       "    .dataframe tbody tr th:only-of-type {\n",
       "        vertical-align: middle;\n",
       "    }\n",
       "\n",
       "    .dataframe tbody tr th {\n",
       "        vertical-align: top;\n",
       "    }\n",
       "\n",
       "    .dataframe thead th {\n",
       "        text-align: right;\n",
       "    }\n",
       "</style>\n",
       "<table border=\"1\" class=\"dataframe\">\n",
       "  <thead>\n",
       "    <tr style=\"text-align: right;\">\n",
       "      <th></th>\n",
       "      <th>category_list_split1</th>\n",
       "      <th>name</th>\n",
       "      <th>raised_amount_usd</th>\n",
       "    </tr>\n",
       "  </thead>\n",
       "  <tbody>\n",
       "    <tr>\n",
       "      <th>65</th>\n",
       "      <td>E-Commerce</td>\n",
       "      <td>Flipkart</td>\n",
       "      <td>3.151140e+09</td>\n",
       "    </tr>\n",
       "    <tr>\n",
       "      <th>25</th>\n",
       "      <td>Development Platforms</td>\n",
       "      <td>Reliance Jio Infocomm Ltd.</td>\n",
       "      <td>3.000000e+09</td>\n",
       "    </tr>\n",
       "    <tr>\n",
       "      <th>112</th>\n",
       "      <td>E-Commerce</td>\n",
       "      <td>Snapdeal</td>\n",
       "      <td>1.897700e+09</td>\n",
       "    </tr>\n",
       "    <tr>\n",
       "      <th>95</th>\n",
       "      <td>E-Commerce</td>\n",
       "      <td>Paytm</td>\n",
       "      <td>7.000000e+08</td>\n",
       "    </tr>\n",
       "    <tr>\n",
       "      <th>23</th>\n",
       "      <td>Clean Technology</td>\n",
       "      <td>Welspun Energy</td>\n",
       "      <td>6.895000e+08</td>\n",
       "    </tr>\n",
       "    <tr>\n",
       "      <th>16</th>\n",
       "      <td>Clean Technology</td>\n",
       "      <td>ReNew Power</td>\n",
       "      <td>5.400000e+08</td>\n",
       "    </tr>\n",
       "    <tr>\n",
       "      <th>7</th>\n",
       "      <td>Clean Technology</td>\n",
       "      <td>Greenko Group</td>\n",
       "      <td>2.419833e+08</td>\n",
       "    </tr>\n",
       "    <tr>\n",
       "      <th>86</th>\n",
       "      <td>E-Commerce</td>\n",
       "      <td>Myntra</td>\n",
       "      <td>1.587500e+08</td>\n",
       "    </tr>\n",
       "    <tr>\n",
       "      <th>58</th>\n",
       "      <td>E-Commerce</td>\n",
       "      <td>Ecom Express</td>\n",
       "      <td>1.495000e+08</td>\n",
       "    </tr>\n",
       "    <tr>\n",
       "      <th>96</th>\n",
       "      <td>E-Commerce</td>\n",
       "      <td>Pepperfry.com</td>\n",
       "      <td>1.280000e+08</td>\n",
       "    </tr>\n",
       "  </tbody>\n",
       "</table>\n",
       "</div>"
      ],
      "text/plain": [
       "      category_list_split1                        name  raised_amount_usd\n",
       "65              E-Commerce                    Flipkart       3.151140e+09\n",
       "25   Development Platforms  Reliance Jio Infocomm Ltd.       3.000000e+09\n",
       "112             E-Commerce                    Snapdeal       1.897700e+09\n",
       "95              E-Commerce                       Paytm       7.000000e+08\n",
       "23        Clean Technology              Welspun Energy       6.895000e+08\n",
       "16        Clean Technology                 ReNew Power       5.400000e+08\n",
       "7         Clean Technology               Greenko Group       2.419833e+08\n",
       "86              E-Commerce                      Myntra       1.587500e+08\n",
       "58              E-Commerce                Ecom Express       1.495000e+08\n",
       "96              E-Commerce               Pepperfry.com       1.280000e+08"
      ]
     },
     "execution_count": 37,
     "metadata": {},
     "output_type": "execute_result"
    }
   ],
   "source": [
    "sect_an_IND_pv_sectnm=sect_an_IND.pivot_table(index=['category_list_split1','name'],values='raised_amount_usd',aggfunc=sum)\n",
    "sect_an_IND_pd_sectnm= pd.DataFrame(sect_an_IND_pv_sectnm)\n",
    "sect_an_IND_pd_sectnm = sect_an_IND_pd_sectnm.reset_index()\n",
    "\n",
    "filter = (sect_an_IND_pd_sectnm['category_list_split1']=='E-Commerce') | (sect_an_IND_pd_sectnm['category_list_split1']=='Development Platforms') | (sect_an_IND_pd_sectnm['category_list_split1']=='Clean Technology')\n",
    "sect_an_IND_pd_sectnm_h = sect_an_IND_pd_sectnm.loc[filter]\n",
    "sect_an_IND_h_pv = sect_an_IND_pd_sectnm_h.pivot_table(index=['category_list_split1','name'],values='raised_amount_usd')\n",
    "sect_an_IND_h_pv\n",
    "sect_an_IND_pd_h = sect_an_IND_h_pv.reset_index()\n",
    "sect_an_IND_pd_h.nlargest(10,'raised_amount_usd').sort_values(['raised_amount_usd','category_list_split1'],ascending=False)"
   ]
  },
  {
   "cell_type": "code",
   "execution_count": null,
   "metadata": {},
   "outputs": [],
   "source": []
  }
 ],
 "metadata": {
  "kernelspec": {
   "display_name": "Python 3",
   "language": "python",
   "name": "python3"
  },
  "language_info": {
   "codemirror_mode": {
    "name": "ipython",
    "version": 3
   },
   "file_extension": ".py",
   "mimetype": "text/x-python",
   "name": "python",
   "nbconvert_exporter": "python",
   "pygments_lexer": "ipython3",
   "version": "3.9.1"
  }
 },
 "nbformat": 4,
 "nbformat_minor": 4
}
